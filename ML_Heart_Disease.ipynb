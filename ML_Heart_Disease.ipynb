
# ML_Heart_Disease.ipynb
# โค้ดสำหรับ train ML model
