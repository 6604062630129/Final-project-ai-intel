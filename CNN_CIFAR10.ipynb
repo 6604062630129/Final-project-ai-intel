
# CNN_CIFAR10.ipynb
# โค้ดสำหรับ train CNN model
